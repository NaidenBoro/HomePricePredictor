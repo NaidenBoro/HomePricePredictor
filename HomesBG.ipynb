{
  "cells": [
    {
      "attachments": {},
      "cell_type": "markdown",
      "metadata": {},
      "source": [
        "Installing requred packages"
      ]
    },
    {
      "cell_type": "code",
      "execution_count": 1,
      "metadata": {
        "colab": {
          "base_uri": "https://localhost:8080/"
        },
        "id": "wcs5Mb9vijSK",
        "outputId": "23d3ea6d-0ba2-41f4-a5a3-7f123cb0605e"
      },
      "outputs": [],
      "source": [
        "!pip install tensorflow-gpu\n",
        "!pip install pandas\n",
        "!pip install keras"
      ]
    },
    {
      "attachments": {},
      "cell_type": "markdown",
      "metadata": {},
      "source": [
        "Importing libreries and uploading the csv"
      ]
    },
    {
      "cell_type": "code",
      "execution_count": null,
      "metadata": {
        "colab": {
          "base_uri": "https://localhost:8080/",
          "height": 73
        },
        "id": "E1AsfFHni3uz",
        "outputId": "d5c26039-059b-4517-86d3-3b2b0bc8bb3f"
      },
      "outputs": [],
      "source": [
        "import pandas as pd\n",
        "import numpy as np\n",
        "import tensorflow as tf\n",
        "\n",
        "from google.colab import files\n",
        "import io\n",
        "uploaded = files.upload()\n",
        "train = pd.read_csv(io.BytesIO(uploaded['proccessed.csv']))"
      ]
    },
    {
      "attachments": {},
      "cell_type": "markdown",
      "metadata": {},
      "source": [
        "Shuffling, Spliting and Formatting"
      ]
    },
    {
      "cell_type": "code",
      "execution_count": null,
      "metadata": {
        "id": "9woYFuS2j5R3"
      },
      "outputs": [],
      "source": [
        "train = train.sample(frac=1)\n",
        "\n",
        "trn = train.iloc[:-1000,:]\n",
        "val = train.iloc[-1000:,:]\n",
        "\n",
        "x_train = trn.iloc[:,:-1]\n",
        "y_train = trn.iloc[:,-1:]\n",
        "x_val = val.iloc[:,:-1]\n",
        "y_val = val.iloc[:,-1:]\n",
        "\n",
        "y = np.array(y_train,dtype=float)\n",
        "x_train = np.asarray(x_train)"
      ]
    },
    {
      "attachments": {},
      "cell_type": "markdown",
      "metadata": {},
      "source": [
        "Normalizing"
      ]
    },
    {
      "cell_type": "code",
      "execution_count": null,
      "metadata": {
        "id": "9SQSQ63RjIDp"
      },
      "outputs": [],
      "source": [
        "layer = tf.keras.layers.Normalization(axis=-1)\n",
        "layer.adapt(x_train)\n",
        "x_train = layer(x_train)\n",
        "x_val= layer(x_val)"
      ]
    },
    {
      "attachments": {},
      "cell_type": "markdown",
      "metadata": {},
      "source": [
        "Building The Model"
      ]
    },
    {
      "cell_type": "code",
      "execution_count": null,
      "metadata": {
        "id": "QLLQfTHClF7B"
      },
      "outputs": [],
      "source": [
        "model = tf.keras.Sequential([\n",
        "  tf.keras.layers.Dense(68, activation=tf.nn.relu, input_shape=(68,)),  # input shape required\n",
        "  tf.keras.layers.Dense(68*4,activation=tf.nn.relu),\n",
        "  tf.keras.layers.Dense(68*2,activation=tf.nn.relu),\n",
        "  tf.keras.layers.Dense(68*2,activation=tf.nn.relu),\n",
        "  tf.keras.layers.Dense(68,activation=tf.nn.relu),\n",
        "  tf.keras.layers.Dense(68/2,activation=tf.nn.relu),\n",
        "  tf.keras.layers.Dense(68/4),\n",
        "  tf.keras.layers.Dense(1)\n",
        "])\n",
        "\n",
        "model.compile(optimizer='adam', loss=tf.keras.losses.MeanSquaredError())\n"
      ]
    },
    {
      "attachments": {},
      "cell_type": "markdown",
      "metadata": {},
      "source": [
        "Training"
      ]
    },
    {
      "cell_type": "code",
      "execution_count": null,
      "metadata": {
        "colab": {
          "base_uri": "https://localhost:8080/"
        },
        "id": "U9fwTNeIlQ2Q",
        "outputId": "df611a27-8aaa-49af-c9b8-5fe61851c46a"
      },
      "outputs": [],
      "source": [
        "model.fit(x_train,y,epochs=200,validation_split=0.1,verbose=1)"
      ]
    },
    {
      "attachments": {},
      "cell_type": "markdown",
      "metadata": {},
      "source": [
        "Evaluating"
      ]
    },
    {
      "cell_type": "code",
      "execution_count": null,
      "metadata": {
        "colab": {
          "base_uri": "https://localhost:8080/"
        },
        "id": "GHLHd-Qcr1kd",
        "outputId": "33365600-61a6-45f9-e753-f75614d91a0c"
      },
      "outputs": [],
      "source": [
        "model.evaluate(x_val,y_val)"
      ]
    },
    {
      "attachments": {},
      "cell_type": "markdown",
      "metadata": {},
      "source": [
        "Testing with my own home"
      ]
    },
    {
      "cell_type": "code",
      "execution_count": null,
      "metadata": {
        "id": "L6UJq-tuwe3Y"
      },
      "outputs": [],
      "source": [
        "my_home=[0,0,0,0,0,0,0,0,0,0,0,0,0,0,0,0,0,0,0,0,0,0,0,0,0,0,0,0,0,0,0,0,0,0,0,0,0,0,0,0,0,0,1,0,0,0,0,0,0,0,0,0,0,0,1,80,0,0,1,1,0,0,0,1,0,0,0,0]\n",
        "my_home=layer(my_home)\n",
        "model.predict(my_home)"
      ]
    }
  ],
  "metadata": {
    "accelerator": "GPU",
    "colab": {
      "provenance": []
    },
    "gpuClass": "standard",
    "kernelspec": {
      "display_name": "Python 3",
      "language": "python",
      "name": "python3"
    },
    "language_info": {
      "codemirror_mode": {
        "name": "ipython",
        "version": 3
      },
      "file_extension": ".py",
      "mimetype": "text/x-python",
      "name": "python",
      "nbconvert_exporter": "python",
      "pygments_lexer": "ipython3",
      "version": "3.10.9"
    },
    "vscode": {
      "interpreter": {
        "hash": "dfef9b78389a41dd62f19bfdcab3e3596f23cdc5275c7c0ecd5b8dae7bb5ebe6"
      }
    }
  },
  "nbformat": 4,
  "nbformat_minor": 0
}
